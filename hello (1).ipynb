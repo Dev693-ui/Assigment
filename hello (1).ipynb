{
 "cells": [
  {
   "cell_type": "code",
   "execution_count": 1,
   "metadata": {},
   "outputs": [
    {
     "name": "stdout",
     "output_type": "stream",
     "text": [
      "HELLO , PYTHON WORLD\n"
     ]
    }
   ],
   "source": [
    "a = \"HELLO , PYTHON WORLD\"\n",
    "print(a)"
   ]
  },
  {
   "cell_type": "code",
   "execution_count": 3,
   "metadata": {},
   "outputs": [
    {
     "name": "stdin",
     "output_type": "stream",
     "text": [
      "Enter the first name : dev\n",
      "Enter the second name : chaudhary\n"
     ]
    },
    {
     "name": "stdout",
     "output_type": "stream",
     "text": [
      "yrahduahc ved\n"
     ]
    }
   ],
   "source": [
    "a= input(\"Enter the first name :\") \n",
    "b= input(\"Enter the second name :\") \n",
    "print(c[: :-1])  "
   ]
  },
  {
   "cell_type": "code",
   "execution_count": 6,
   "metadata": {},
   "outputs": [
    {
     "name": "stdin",
     "output_type": "stream",
     "text": [
      "Enter the number : 55\n",
      "IN WHICH DATATYPE YOU WANT TO CONVERT FOR INT TYPE int FOR FLOAT TYPE flt FOR COMPLEX cmp  flt\n"
     ]
    },
    {
     "name": "stdout",
     "output_type": "stream",
     "text": [
      "The Float Value is 55.0\n"
     ]
    }
   ],
   "source": [
    "#In this code we take a input from user of number and store in the int variable a and then convert in other datatype\n",
    "\n",
    "a = int(input(\"Enter the number :\"))  #taking a integer input from user and store in varaible a \n",
    "b =  input(\"IN WHICH DATATYPE YOU WANT TO CONVERT FOR INT TYPE int FOR FLOAT TYPE flt FOR COMPLEX cmp \") #Then ask to user in thich dataype he/she want to conver if they want interger type int otherwise for float type flt or if they want complex then type cmp\n",
    "if b=='int': \n",
    "    d = int(a) \n",
    "    print(\"The Interger Value is\" , d) #and then print d \n",
    "elif b=='flt':  \n",
    "    d = float(a)   \n",
    "    print(\"The Float Value is\" , d)  #and print d \n",
    "elif b=='cmp' : \n",
    "    d=complex(a) #in this user input is converted into complex number \n",
    "    print(\"The Complex Value is \" ,d)    #then print d \n",
    "    \n",
    "    "
   ]
  },
  {
   "cell_type": "code",
   "execution_count": 7,
   "metadata": {},
   "outputs": [
    {
     "name": "stdin",
     "output_type": "stream",
     "text": [
      "Enter the length of the rectangle 10\n",
      "Enter the breadth of the rectangle  77\n"
     ]
    },
    {
     "name": "stdout",
     "output_type": "stream",
     "text": [
      "The Area of Rectangle is  770\n"
     ]
    }
   ],
   "source": [
    "#In this code we take user input of length and breadth and the calculate the area of rectangle and then print it\n",
    "length_ = int(input(\"Enter the length of the rectangle\"))    #in this line we take a integer input from user and store in the lenth_ variable \n",
    "breadth_ = int (input(\"Enter the breadth of the rectangle \"))  #in this line we also take a integer input from user and store in the variable breadth_\n",
    "final_area = length_* breadth_   # we take another variable of final_area in which the value of lenth_ and breadth_ is multiplied because for area of rectangle we should multiply length and breadth \n",
    "print(\"The Area of Rectangle is \" , final_area)    #then we use print command and print the final output "
   ]
  },
  {
   "cell_type": "code",
   "execution_count": 8,
   "metadata": {},
   "outputs": [
    {
     "name": "stdout",
     "output_type": "stream",
     "text": [
      "The area of the rectangle is: 770.00\n"
     ]
    }
   ],
   "source": [
    "#Using format function calculate the area of rectangle from the above function \n",
    "print(f\"The area of the rectangle is: {final_area:.2f}\")  #we take the same upper function just use the print commant to print the area in 2 decimal position using format function "
   ]
  },
  {
   "cell_type": "code",
   "execution_count": 9,
   "metadata": {},
   "outputs": [
    {
     "name": "stdin",
     "output_type": "stream",
     "text": [
      "Enter the first number:  66\n",
      "Enter the second number:  77\n",
      "Enter the third number:  11\n"
     ]
    },
    {
     "name": "stdout",
     "output_type": "stream",
     "text": [
      "The average of the three numbers is: 51.33\n"
     ]
    }
   ],
   "source": [
    "# Input three numbers from the user\n",
    "num1 = float(input(\"Enter the first number: \"))\n",
    "num2 = float(input(\"Enter the second number: \"))\n",
    "num3 = float(input(\"Enter the third number: \"))\n",
    "\n",
    "# Calculate the average\n",
    "average = (num1 + num2 + num3) / 3\n",
    "\n",
    "# Print the average using the % method for string formatting\n",
    "print(\"The average of the three numbers is: %.2f\" % average)"
   ]
  },
  {
   "cell_type": "code",
   "execution_count": 10,
   "metadata": {},
   "outputs": [
    {
     "name": "stdin",
     "output_type": "stream",
     "text": [
      "Enter a number:  -10\n"
     ]
    },
    {
     "name": "stdout",
     "output_type": "stream",
     "text": [
      "The number is negative.\n"
     ]
    }
   ],
   "source": [
    "# Ask the user for a number\n",
    "number = float(input(\"Enter a number: \"))\n",
    "\n",
    "# Determine if the number is positive, negative, or zero using if elif and else statement\n",
    "if number > 0:\n",
    "    print(\"The number is positive.\")\n",
    "elif number < 0:\n",
    "    print(\"The number is negative.\")\n",
    "else:\n",
    "    print(\"The number is zero.\")"
   ]
  },
  {
   "cell_type": "code",
   "execution_count": null,
   "metadata": {},
   "outputs": [],
   "source": [
    "while True:\n",
    "    # Ask the user for input\n",
    "    user_input = input(\"Enter a number (or type 'exit' to quit): \")\n",
    "    \n",
    "    # Check if the user wants to exit\n",
    "    if user_input.lower() == 'exit':\n",
    "        print(\"Exiting the program. Goodbye!\")\n",
    "        break\n",
    "    \n",
    "    else:\n",
    "        # Convert input to a float and determine if it is positive, negative, or zero\n",
    "        number = float(user_input)\n",
    "        \n",
    "        if number > 0:\n",
    "            print(\"The number is positive.\")\n",
    "        elif number < 0:\n",
    "            print(\"The number is negative.\")\n",
    "        else:\n",
    "            print(\"The number is zero.\")\n",
    "    \n",
    "    "
   ]
  },
  {
   "cell_type": "code",
   "execution_count": 30,
   "metadata": {},
   "outputs": [
    {
     "name": "stdin",
     "output_type": "stream",
     "text": [
      "Enter the first number:  12\n",
      "Enter the second number:  14\n"
     ]
    },
    {
     "name": "stdout",
     "output_type": "stream",
     "text": [
      "Both numbers are even.\n"
     ]
    }
   ],
   "source": [
    "# Input two numbers from the user\n",
    "first_number = int(input(\"Enter the first number: \"))\n",
    "second_number = int(input(\"Enter the second number: \"))\n",
    "\n",
    "# Check whether both numbers are even, odd, or one of each using relational and logical operator\n",
    "if first_number % 2 == 0 and second_number % 2 == 0:\n",
    "    print(\"Both numbers are even.\")\n",
    "elif first_number % 2 != 0 and second_number % 2 != 0:\n",
    "    print(\"Both numbers are odd.\")\n",
    "else:\n",
    "    print(\"One number is even and the other is odd.\")\n"
   ]
  },
  {
   "cell_type": "code",
   "execution_count": 31,
   "metadata": {},
   "outputs": [
    {
     "name": "stdin",
     "output_type": "stream",
     "text": [
      "Enter an integer:  10\n"
     ]
    },
    {
     "name": "stdout",
     "output_type": "stream",
     "text": [
      "Binary: 1010\n",
      "Octal: 12\n",
      "Hexadecimal: 1\n"
     ]
    }
   ],
   "source": [
    "# Function to convert a number to binary, octal, and hexadecimal using bitwise operations\n",
    "def convert_number(num):\n",
    "    # Binary conversion\n",
    "    binary = ''\n",
    "    for i in range(num.bit_length(), -1, -1):\n",
    "        binary += '1' if (num >> i) & 1 else '0'\n",
    "    binary = binary.lstrip('0') or '0'  # Remove leading zeros\n",
    "\n",
    "    # Octal conversion\n",
    "    octal = ''\n",
    "    for i in range(num.bit_length() - 1, -1, -3):  # Group by 3 bits for octal\n",
    "        octal_digit = (num >> i) & 7  # Extract 3 bits at a time\n",
    "        octal += str(octal_digit)\n",
    "    octal = octal.lstrip('0') or '0'  # Remove leading zeros\n",
    "\n",
    "    # Hexadecimal conversion\n",
    "    hex_digits = \"0123456789ABCDEF\"\n",
    "    hexadecimal = ''\n",
    "    for i in range(num.bit_length() - 1, -1, -4):  # Group by 4 bits for hexadecimal\n",
    "        hex_digit = (num >> i) & 15  # Extract 4 bits at a time\n",
    "        hexadecimal += hex_digits[hex_digit]\n",
    "    hexadecimal = hexadecimal.lstrip('0') or '0'  # Remove leading zeros\n",
    "\n",
    "    print(f\"Binary: {binary}\")\n",
    "    print(f\"Octal: {octal}\")\n",
    "    print(f\"Hexadecimal: {hexadecimal}\")\n",
    "\n",
    "# Take integer input from the user\n",
    "number = int(input(\"Enter an integer: \"))\n",
    "convert_number(number)\n"
   ]
  },
  {
   "cell_type": "code",
   "execution_count": null,
   "metadata": {},
   "outputs": [],
   "source": []
  }
 ],
 "metadata": {
  "kernelspec": {
   "display_name": "Python 3 (ipykernel)",
   "language": "python",
   "name": "python3"
  },
  "language_info": {
   "codemirror_mode": {
    "name": "ipython",
    "version": 3
   },
   "file_extension": ".py",
   "mimetype": "text/x-python",
   "name": "python",
   "nbconvert_exporter": "python",
   "pygments_lexer": "ipython3",
   "version": "3.12.1"
  }
 },
 "nbformat": 4,
 "nbformat_minor": 4
}
